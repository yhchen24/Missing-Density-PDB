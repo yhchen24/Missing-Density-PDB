{
 "cells": [
  {
   "cell_type": "code",
   "execution_count": 1,
   "metadata": {},
   "outputs": [],
   "source": [
    "from httplib2 import Http\n",
    "from oauth2client import file, client, tools\n",
    "from apiclient import discovery\n",
    "import requests\n",
    "import io\n",
    "import os\n",
    "from googleapiclient.http import MediaIoBaseDownload\n",
    "\n",
    "\n",
    "def get_samples():\n",
    "    \"\"\"\n",
    "    This method can download samples used in example from out drive.\n",
    "    When executing the method, it will prompt a link and an input box.\n",
    "    To get the verification code, you have to click the link and then\n",
    "    choose the google account. Copy the code shown on screen and paste\n",
    "    it to the input box. Then, it will create a token.json and a folder\n",
    "    named ExampleData. There are four csv files and two zip files which\n",
    "    contain 3000 and 20 pdb files respectively in the ExampleData folder.\n",
    "    \"\"\"\n",
    "    credential = 'client_id.json'\n",
    "    url = 'https://github.com/yhchen24/Missing-Density-PDB/\\\n",
    "        raw/master/missingdensityprotein/datashare/client_id.json'\n",
    "    if not os.path.exists(credential):\n",
    "        req = requests.get(url)\n",
    "        with open(credential, 'wb') as f:\n",
    "            f.write(req.content)\n",
    "    obj = lambda: None\n",
    "    lmao = {\"auth_host_name\": 'localhost',\n",
    "            'noauth_local_webserver': 'store_true',\n",
    "            'auth_host_port': [8080, 8090],\n",
    "            'logging_level': 'ERROR'}\n",
    "    for k, v in lmao.items():\n",
    "        setattr(obj, k, v)\n",
    "    SCOPES = 'https://www.googleapis.com/auth/drive.readonly'\n",
    "    store = file.Storage('token.json')\n",
    "    creds = store.get()\n",
    "    if not creds or creds.invalid:\n",
    "        flow = client.flow_from_clientsecrets('client_id.json', SCOPES)\n",
    "        creds = tools.run_flow(flow, store, obj)\n",
    "    DRIVE = discovery.build('drive', 'v3', http=creds.authorize(Http()))\n",
    "    file_id = ['1GXkUZzSUFu0F_tMMI1FtNA42eTiwx_G8',\n",
    "               '1Nl1a5GFam5y9J0V9Nm8uo2hDoMdx9BnI',\n",
    "               '1YwjTZAhtUJwUr54Ao1X40VwUHeCvJ8F7',\n",
    "               '1PQgmaFljME2WaCiTBRUSWdAV70bWRwax',\n",
    "               '1Nk9X6zMeDWDQcDHKTg7FtQCOX9nXe32J',\n",
    "               '1-USFXT-rbCKrrRAyVXZwNgUIyWKFu9JG']\n",
    "    filename = ['headers_1000.csv',\n",
    "                'res_data_1000.csv',\n",
    "                'samples_1000.csv',\n",
    "                'summary_1000.csv',\n",
    "                'small_data',\n",
    "                'all_data']\n",
    "    if not os.path.exists('ExampleData/'):\n",
    "        os.mkdir('ExampleData')\n",
    "    for i in range(len(file_id)):\n",
    "        if not os.path.exists('ExampleData/' + filename[i]):\n",
    "            request = DRIVE.files().get_media(fileId=file_id[i])\n",
    "            fh = io.FileIO('ExampleData/' + filename[i], mode='w')\n",
    "            downloader = MediaIoBaseDownload(fh, request)\n",
    "            done = False\n",
    "            while done is False:\n",
    "                status, done = downloader.next_chunk()\n",
    "    return 'All files exist.'\n"
   ]
  },
  {
   "cell_type": "code",
   "execution_count": 2,
   "metadata": {
    "scrolled": false
   },
   "outputs": [
    {
     "data": {
      "text/plain": [
       "'All files exist.'"
      ]
     },
     "execution_count": 2,
     "metadata": {},
     "output_type": "execute_result"
    }
   ],
   "source": [
    "get_samples()"
   ]
  },
  {
   "cell_type": "code",
   "execution_count": null,
   "metadata": {},
   "outputs": [],
   "source": []
  }
 ],
 "metadata": {
  "kernelspec": {
   "display_name": "Python 3",
   "language": "python",
   "name": "python3"
  },
  "language_info": {
   "codemirror_mode": {
    "name": "ipython",
    "version": 3
   },
   "file_extension": ".py",
   "mimetype": "text/x-python",
   "name": "python",
   "nbconvert_exporter": "python",
   "pygments_lexer": "ipython3",
   "version": "3.7.3"
  }
 },
 "nbformat": 4,
 "nbformat_minor": 2
}

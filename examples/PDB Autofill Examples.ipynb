{
 "cells": [
  {
   "cell_type": "markdown",
   "metadata": {},
   "source": [
    "# Example using PDB Autofill"
   ]
  },
  {
   "cell_type": "markdown",
   "metadata": {},
   "source": [
    "## Overall Function\n",
    "\n",
    "Input the file directory, protein names, and the number in list of proteins you are interested to classify. The output will give you the list of features that are most responsible for the missing residues. A higher node number corresponds to a higher correlation of why the protein has missing residues. "
   ]
  },
  {
   "cell_type": "code",
   "execution_count": 1,
   "metadata": {},
   "outputs": [
    {
     "ename": "ModuleNotFoundError",
     "evalue": "No module named 'pdb_autofill'",
     "output_type": "error",
     "traceback": [
      "\u001b[0;31m---------------------------------------------------------------------------\u001b[0m",
      "\u001b[0;31mModuleNotFoundError\u001b[0m                       Traceback (most recent call last)",
      "\u001b[0;32m<ipython-input-1-91648f6c421a>\u001b[0m in \u001b[0;36m<module>\u001b[0;34m\u001b[0m\n\u001b[0;32m----> 1\u001b[0;31m \u001b[0;32mimport\u001b[0m \u001b[0mpdb_autofill\u001b[0m \u001b[0;32mas\u001b[0m \u001b[0mpdb\u001b[0m\u001b[0;34m\u001b[0m\u001b[0;34m\u001b[0m\u001b[0m\n\u001b[0m\u001b[1;32m      2\u001b[0m \u001b[0;32mimport\u001b[0m \u001b[0mwarnings\u001b[0m\u001b[0;34m\u001b[0m\u001b[0;34m\u001b[0m\u001b[0m\n\u001b[1;32m      3\u001b[0m \u001b[0mwarnings\u001b[0m\u001b[0;34m.\u001b[0m\u001b[0mfilterwarnings\u001b[0m\u001b[0;34m(\u001b[0m\u001b[0;34m\"ignore\"\u001b[0m\u001b[0;34m)\u001b[0m\u001b[0;34m\u001b[0m\u001b[0;34m\u001b[0m\u001b[0m\n",
      "\u001b[0;31mModuleNotFoundError\u001b[0m: No module named 'pdb_autofill'"
     ]
    }
   ],
   "source": [
    "import pdb_autofill as pdb\n",
    "import warnings\n",
    "warnings.filterwarnings(\"ignore\")"
   ]
  },
  {
   "cell_type": "code",
   "execution_count": 2,
   "metadata": {},
   "outputs": [
    {
     "name": "stdout",
     "output_type": "stream",
     "text": [
      "Does this circumstance tend to have missing residues? [ True]\n",
      "Most used features of nodes that input data went through [('Nonpolar Side Chains', 1022), ('b_factor_gt50', 859), ('Sequence Length', 796), ('b_factor_max', 784), ('resolution', 722), ('Electrically Charged', 706), ('Hydrophobic', 583), ('Special', 486)]\n"
     ]
    }
   ],
   "source": [
    "protein_list = ['1gey', '1gzc', '1ufo', '2hi2', '2jfk', '2o73', '2qqt', '2x82', '2y39', '2z91', '3d5m', \n",
    "                '3gem', '3qun', '3ueo', '4bal', '4msw', '4wji', '4y79', '5uez', '7fdr']\n",
    "pdb.pdb_autofill('small_data/', protein_list, 5)"
   ]
  },
  {
   "cell_type": "markdown",
   "metadata": {},
   "source": [
    "## Loading Sample Dataset\n",
    "\n",
    "If you are unfamiliar with PDB files, a good place to start is by downloading a subset we have prepared for you! `import datashare` and utilize the function `get_samples()` to load our subset. "
   ]
  },
  {
   "cell_type": "code",
   "execution_count": 3,
   "metadata": {},
   "outputs": [],
   "source": [
    "import datashare"
   ]
  },
  {
   "cell_type": "code",
   "execution_count": null,
   "metadata": {
    "scrolled": true
   },
   "outputs": [],
   "source": [
    "datashare.getdata.get_samples()"
   ]
  },
  {
   "cell_type": "markdown",
   "metadata": {},
   "source": [
    "## Extract DataFrames\n",
    "\n",
    "This example shows how you can extract amino acid sequences and some additional features from PDB files using our package."
   ]
  },
  {
   "cell_type": "code",
   "execution_count": 4,
   "metadata": {},
   "outputs": [],
   "source": [
    "import dataprocess.PDB_Data_Processing as pdb_dp"
   ]
  },
  {
   "cell_type": "code",
   "execution_count": 5,
   "metadata": {},
   "outputs": [],
   "source": [
    "[residues, headers] = pdb_dp.extraction_residues_headers('small_data/', protein_list)"
   ]
  },
  {
   "cell_type": "code",
   "execution_count": 6,
   "metadata": {},
   "outputs": [
    {
     "data": {
      "text/html": [
       "<div>\n",
       "<style scoped>\n",
       "    .dataframe tbody tr th:only-of-type {\n",
       "        vertical-align: middle;\n",
       "    }\n",
       "\n",
       "    .dataframe tbody tr th {\n",
       "        vertical-align: top;\n",
       "    }\n",
       "\n",
       "    .dataframe thead th {\n",
       "        text-align: right;\n",
       "    }\n",
       "</style>\n",
       "<table border=\"1\" class=\"dataframe\">\n",
       "  <thead>\n",
       "    <tr style=\"text-align: right;\">\n",
       "      <th></th>\n",
       "      <th>1gey</th>\n",
       "      <th>1gzc</th>\n",
       "      <th>1ufo</th>\n",
       "      <th>2hi2</th>\n",
       "      <th>2jfk</th>\n",
       "      <th>2o73</th>\n",
       "      <th>2qqt</th>\n",
       "      <th>2x82</th>\n",
       "      <th>2y39</th>\n",
       "      <th>2z91</th>\n",
       "      <th>3d5m</th>\n",
       "      <th>3gem</th>\n",
       "      <th>3qun</th>\n",
       "      <th>3ueo</th>\n",
       "      <th>4bal</th>\n",
       "      <th>4msw</th>\n",
       "      <th>4wji</th>\n",
       "      <th>4y79</th>\n",
       "      <th>5uez</th>\n",
       "      <th>7fdr</th>\n",
       "    </tr>\n",
       "  </thead>\n",
       "  <tbody>\n",
       "    <tr>\n",
       "      <th>0</th>\n",
       "      <td>THR</td>\n",
       "      <td>VAL</td>\n",
       "      <td>ARG</td>\n",
       "      <td>THR</td>\n",
       "      <td>GLN</td>\n",
       "      <td>ASP</td>\n",
       "      <td>SER</td>\n",
       "      <td>PRO</td>\n",
       "      <td>GLY</td>\n",
       "      <td>GLN</td>\n",
       "      <td>SER</td>\n",
       "      <td>SER</td>\n",
       "      <td>SER</td>\n",
       "      <td>GLY</td>\n",
       "      <td>ALA</td>\n",
       "      <td>GLN</td>\n",
       "      <td>ALA</td>\n",
       "      <td>ILE</td>\n",
       "      <td>SER</td>\n",
       "      <td>ALA</td>\n",
       "    </tr>\n",
       "    <tr>\n",
       "      <th>1</th>\n",
       "      <td>ILE</td>\n",
       "      <td>GLU</td>\n",
       "      <td>VAL</td>\n",
       "      <td>LEU</td>\n",
       "      <td>SER</td>\n",
       "      <td>ILE</td>\n",
       "      <td>TRP</td>\n",
       "      <td>VAL</td>\n",
       "      <td>ASP</td>\n",
       "      <td>LEU</td>\n",
       "      <td>MET</td>\n",
       "      <td>ALA</td>\n",
       "      <td>GLY</td>\n",
       "      <td>LEU</td>\n",
       "      <td>THR</td>\n",
       "      <td>VAL</td>\n",
       "      <td>GLN</td>\n",
       "      <td>VAL</td>\n",
       "      <td>HIS</td>\n",
       "      <td>PHE</td>\n",
       "    </tr>\n",
       "    <tr>\n",
       "      <th>2</th>\n",
       "      <td>THR</td>\n",
       "      <td>THR</td>\n",
       "      <td>ARG</td>\n",
       "      <td>ILE</td>\n",
       "      <td>MET</td>\n",
       "      <td>ASN</td>\n",
       "      <td>GLU</td>\n",
       "      <td>GLN</td>\n",
       "      <td>LEU</td>\n",
       "      <td>LEU</td>\n",
       "      <td>SER</td>\n",
       "      <td>PRO</td>\n",
       "      <td>LEU</td>\n",
       "      <td>PHE</td>\n",
       "      <td>PHE</td>\n",
       "      <td>GLN</td>\n",
       "      <td>GLN</td>\n",
       "      <td>GLY</td>\n",
       "      <td>MET</td>\n",
       "      <td>VAL</td>\n",
       "    </tr>\n",
       "    <tr>\n",
       "      <th>3</th>\n",
       "      <td>ASP</td>\n",
       "      <td>ILE</td>\n",
       "      <td>THR</td>\n",
       "      <td>GLU</td>\n",
       "      <td>ARG</td>\n",
       "      <td>VAL</td>\n",
       "      <td>VAL</td>\n",
       "      <td>HIS</td>\n",
       "      <td>HIS</td>\n",
       "      <td>GLU</td>\n",
       "      <td>TYR</td>\n",
       "      <td>ILE</td>\n",
       "      <td>VAL</td>\n",
       "      <td>SER</td>\n",
       "      <td>GLU</td>\n",
       "      <td>LEU</td>\n",
       "      <td>PHE</td>\n",
       "      <td>GLY</td>\n",
       "      <td>GLU</td>\n",
       "      <td>VAL</td>\n",
       "    </tr>\n",
       "    <tr>\n",
       "      <th>4</th>\n",
       "      <td>LEU</td>\n",
       "      <td>SER</td>\n",
       "      <td>GLU</td>\n",
       "      <td>LEU</td>\n",
       "      <td>LEU</td>\n",
       "      <td>VAL</td>\n",
       "      <td>GLY</td>\n",
       "      <td>VAL</td>\n",
       "      <td>GLU</td>\n",
       "      <td>SER</td>\n",
       "      <td>THR</td>\n",
       "      <td>LEU</td>\n",
       "      <td>PRO</td>\n",
       "      <td>GLN</td>\n",
       "      <td>ILE</td>\n",
       "      <td>GLN</td>\n",
       "      <td>GLN</td>\n",
       "      <td>GLN</td>\n",
       "      <td>GLN</td>\n",
       "      <td>THR</td>\n",
       "    </tr>\n",
       "  </tbody>\n",
       "</table>\n",
       "</div>"
      ],
      "text/plain": [
       "  1gey 1gzc 1ufo 2hi2 2jfk 2o73 2qqt 2x82 2y39 2z91 3d5m 3gem 3qun 3ueo 4bal  \\\n",
       "0  THR  VAL  ARG  THR  GLN  ASP  SER  PRO  GLY  GLN  SER  SER  SER  GLY  ALA   \n",
       "1  ILE  GLU  VAL  LEU  SER  ILE  TRP  VAL  ASP  LEU  MET  ALA  GLY  LEU  THR   \n",
       "2  THR  THR  ARG  ILE  MET  ASN  GLU  GLN  LEU  LEU  SER  PRO  LEU  PHE  PHE   \n",
       "3  ASP  ILE  THR  GLU  ARG  VAL  VAL  HIS  HIS  GLU  TYR  ILE  VAL  SER  GLU   \n",
       "4  LEU  SER  GLU  LEU  LEU  VAL  GLY  VAL  GLU  SER  THR  LEU  PRO  GLN  ILE   \n",
       "\n",
       "  4msw 4wji 4y79 5uez 7fdr  \n",
       "0  GLN  ALA  ILE  SER  ALA  \n",
       "1  VAL  GLN  VAL  HIS  PHE  \n",
       "2  GLN  GLN  GLY  MET  VAL  \n",
       "3  LEU  PHE  GLY  GLU  VAL  \n",
       "4  GLN  GLN  GLN  GLN  THR  "
      ]
     },
     "execution_count": 6,
     "metadata": {},
     "output_type": "execute_result"
    }
   ],
   "source": [
    "residues.head() # residues is a dataframe with pdb files as column names, and amino acid sequence along the column"
   ]
  },
  {
   "cell_type": "code",
   "execution_count": 7,
   "metadata": {},
   "outputs": [],
   "source": [
    "features = pdb_dp.extracted_features('small_data/', protein_list)"
   ]
  },
  {
   "cell_type": "code",
   "execution_count": 8,
   "metadata": {},
   "outputs": [
    {
     "data": {
      "text/html": [
       "<div>\n",
       "<style scoped>\n",
       "    .dataframe tbody tr th:only-of-type {\n",
       "        vertical-align: middle;\n",
       "    }\n",
       "\n",
       "    .dataframe tbody tr th {\n",
       "        vertical-align: top;\n",
       "    }\n",
       "\n",
       "    .dataframe thead th {\n",
       "        text-align: right;\n",
       "    }\n",
       "</style>\n",
       "<table border=\"1\" class=\"dataframe\">\n",
       "  <thead>\n",
       "    <tr style=\"text-align: right;\">\n",
       "      <th></th>\n",
       "      <th>protein</th>\n",
       "      <th>name</th>\n",
       "      <th>head</th>\n",
       "      <th>structure_method</th>\n",
       "      <th>resolution</th>\n",
       "      <th>has_missing_residues</th>\n",
       "      <th>b_factor_avg</th>\n",
       "      <th>b_factor_med</th>\n",
       "      <th>b_factor_max</th>\n",
       "      <th>b_factor_gt50</th>\n",
       "      <th>Sequence Length</th>\n",
       "      <th>Electrically Charged</th>\n",
       "      <th>Nonpolar Side Chains</th>\n",
       "      <th>Hydrophobic</th>\n",
       "      <th>Special</th>\n",
       "      <th>Protein</th>\n",
       "    </tr>\n",
       "  </thead>\n",
       "  <tbody>\n",
       "    <tr>\n",
       "      <th>0</th>\n",
       "      <td>1gey</td>\n",
       "      <td>crystal structure of histidinol-phosphate ami...</td>\n",
       "      <td>transferase</td>\n",
       "      <td>x-ray diffraction</td>\n",
       "      <td>2.30</td>\n",
       "      <td>True</td>\n",
       "      <td>23.901636</td>\n",
       "      <td>20.17</td>\n",
       "      <td>87.44</td>\n",
       "      <td>190</td>\n",
       "      <td>335</td>\n",
       "      <td>0.21194</td>\n",
       "      <td>0.2</td>\n",
       "      <td>0.453731</td>\n",
       "      <td>0.107463</td>\n",
       "      <td>1gey</td>\n",
       "    </tr>\n",
       "    <tr>\n",
       "      <th>1</th>\n",
       "      <td>1gzc</td>\n",
       "      <td>high-resolution crystal structure of erythrin...</td>\n",
       "      <td>sugar binding protein</td>\n",
       "      <td>x-ray diffraction</td>\n",
       "      <td>1.58</td>\n",
       "      <td>False</td>\n",
       "      <td>27.355023</td>\n",
       "      <td>24.68</td>\n",
       "      <td>67.17</td>\n",
       "      <td>31</td>\n",
       "      <td>239</td>\n",
       "      <td>0.175732</td>\n",
       "      <td>0.280335</td>\n",
       "      <td>0.401674</td>\n",
       "      <td>0.142259</td>\n",
       "      <td>1gzc</td>\n",
       "    </tr>\n",
       "    <tr>\n",
       "      <th>2</th>\n",
       "      <td>1ufo</td>\n",
       "      <td>crystal structure of tt1662 from thermus ther...</td>\n",
       "      <td>hydrolase</td>\n",
       "      <td>x-ray diffraction</td>\n",
       "      <td>1.60</td>\n",
       "      <td>False</td>\n",
       "      <td>18.072573</td>\n",
       "      <td>14.57</td>\n",
       "      <td>69.78</td>\n",
       "      <td>49</td>\n",
       "      <td>1404</td>\n",
       "      <td>0.277778</td>\n",
       "      <td>0.0769231</td>\n",
       "      <td>0.448718</td>\n",
       "      <td>0.196581</td>\n",
       "      <td>1ufo</td>\n",
       "    </tr>\n",
       "    <tr>\n",
       "      <th>3</th>\n",
       "      <td>2hi2</td>\n",
       "      <td>crystal structure of native neisseria gonorrh...</td>\n",
       "      <td>cell adhesion</td>\n",
       "      <td>x-ray diffraction</td>\n",
       "      <td>2.30</td>\n",
       "      <td>False</td>\n",
       "      <td>42.820564</td>\n",
       "      <td>41.33</td>\n",
       "      <td>131.14</td>\n",
       "      <td>368</td>\n",
       "      <td>157</td>\n",
       "      <td>0.261146</td>\n",
       "      <td>0.216561</td>\n",
       "      <td>0.407643</td>\n",
       "      <td>0.101911</td>\n",
       "      <td>2hi2</td>\n",
       "    </tr>\n",
       "    <tr>\n",
       "      <th>4</th>\n",
       "      <td>2jfk</td>\n",
       "      <td>structure of the mat domain of human fas with...</td>\n",
       "      <td>transferase</td>\n",
       "      <td>x-ray diffraction</td>\n",
       "      <td>2.40</td>\n",
       "      <td>True</td>\n",
       "      <td>31.797363</td>\n",
       "      <td>31.36</td>\n",
       "      <td>87.42</td>\n",
       "      <td>424</td>\n",
       "      <td>1616</td>\n",
       "      <td>0.230198</td>\n",
       "      <td>0.169554</td>\n",
       "      <td>0.430074</td>\n",
       "      <td>0.150371</td>\n",
       "      <td>2jfk</td>\n",
       "    </tr>\n",
       "  </tbody>\n",
       "</table>\n",
       "</div>"
      ],
      "text/plain": [
       "  protein                                               name  \\\n",
       "0    1gey   crystal structure of histidinol-phosphate ami...   \n",
       "1    1gzc   high-resolution crystal structure of erythrin...   \n",
       "2    1ufo   crystal structure of tt1662 from thermus ther...   \n",
       "3    2hi2   crystal structure of native neisseria gonorrh...   \n",
       "4    2jfk   structure of the mat domain of human fas with...   \n",
       "\n",
       "                    head   structure_method  resolution  has_missing_residues  \\\n",
       "0            transferase  x-ray diffraction        2.30                  True   \n",
       "1  sugar binding protein  x-ray diffraction        1.58                 False   \n",
       "2              hydrolase  x-ray diffraction        1.60                 False   \n",
       "3          cell adhesion  x-ray diffraction        2.30                 False   \n",
       "4            transferase  x-ray diffraction        2.40                  True   \n",
       "\n",
       "   b_factor_avg  b_factor_med  b_factor_max  b_factor_gt50  Sequence Length  \\\n",
       "0     23.901636         20.17         87.44            190              335   \n",
       "1     27.355023         24.68         67.17             31              239   \n",
       "2     18.072573         14.57         69.78             49             1404   \n",
       "3     42.820564         41.33        131.14            368              157   \n",
       "4     31.797363         31.36         87.42            424             1616   \n",
       "\n",
       "  Electrically Charged Nonpolar Side Chains Hydrophobic   Special Protein  \n",
       "0              0.21194                  0.2    0.453731  0.107463    1gey  \n",
       "1             0.175732             0.280335    0.401674  0.142259    1gzc  \n",
       "2             0.277778            0.0769231    0.448718  0.196581    1ufo  \n",
       "3             0.261146             0.216561    0.407643  0.101911    2hi2  \n",
       "4             0.230198             0.169554    0.430074  0.150371    2jfk  "
      ]
     },
     "execution_count": 8,
     "metadata": {},
     "output_type": "execute_result"
    }
   ],
   "source": [
    "features['Protein'] = features['protein']\n",
    "features.to_csv('RF_input.csv')\n",
    "features.head()"
   ]
  },
  {
   "cell_type": "markdown",
   "metadata": {},
   "source": [
    "## Classify Missing Densities\n",
    "\n",
    "This example shows how to use the classification feature. The input is a csv of extracted features shown previously, and the output is the ranked reason of given features. The higher number of nodes indicates a more significant impact for missind residues."
   ]
  },
  {
   "cell_type": "code",
   "execution_count": 9,
   "metadata": {},
   "outputs": [],
   "source": [
    "import randomforest.Random_Forest as RF"
   ]
  },
  {
   "cell_type": "code",
   "execution_count": 10,
   "metadata": {},
   "outputs": [],
   "source": [
    "RF_input = 'RF_input.csv'"
   ]
  },
  {
   "cell_type": "code",
   "execution_count": 11,
   "metadata": {},
   "outputs": [
    {
     "name": "stdout",
     "output_type": "stream",
     "text": [
      "Does this circumstance tend to have missing residues? [ True]\n",
      "Most used features of nodes that input data went through [('Nonpolar Side Chains', 1022), ('b_factor_gt50', 859), ('Sequence Length', 796), ('b_factor_max', 784), ('resolution', 722), ('Electrically Charged', 706), ('Hydrophobic', 583), ('Special', 486)]\n"
     ]
    },
    {
     "data": {
      "text/plain": [
       "array([ True])"
      ]
     },
     "execution_count": 11,
     "metadata": {},
     "output_type": "execute_result"
    }
   ],
   "source": [
    "RF.get_reason_prediction(RF_input, 5)"
   ]
  },
  {
   "cell_type": "markdown",
   "metadata": {},
   "source": [
    "## Predict Missing Densities\n",
    "\n",
    "We did not have enough time to finish this, but we would have demonstrated how to predict missing densities with our package here :)"
   ]
  },
  {
   "cell_type": "code",
   "execution_count": 12,
   "metadata": {},
   "outputs": [
    {
     "name": "stderr",
     "output_type": "stream",
     "text": [
      "Using TensorFlow backend.\n"
     ]
    }
   ],
   "source": [
    "import neural_networks.nnm_coordinate as nnm"
   ]
  },
  {
   "cell_type": "code",
   "execution_count": null,
   "metadata": {},
   "outputs": [],
   "source": []
  }
 ],
 "metadata": {
  "kernelspec": {
   "display_name": "Python 3",
   "language": "python",
   "name": "python3"
  },
  "language_info": {
   "codemirror_mode": {
    "name": "ipython",
    "version": 3
   },
   "file_extension": ".py",
   "mimetype": "text/x-python",
   "name": "python",
   "nbconvert_exporter": "python",
   "pygments_lexer": "ipython3",
   "version": "3.7.3"
  }
 },
 "nbformat": 4,
 "nbformat_minor": 2
}

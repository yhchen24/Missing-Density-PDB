{
 "cells": [
  {
   "cell_type": "code",
   "execution_count": 1,
   "metadata": {},
   "outputs": [],
   "source": [
    "import pandas as pd\n",
    "import random\n",
    "import numpy as np\n",
    "from sklearn.model_selection import train_test_split\n",
    "from sklearn.ensemble import RandomForestClassifier\n",
    "import joblib \n",
    "from collections import Counter"
   ]
  },
  {
   "cell_type": "code",
   "execution_count": 2,
   "metadata": {},
   "outputs": [
    {
     "data": {
      "text/html": [
       "<div>\n",
       "<style scoped>\n",
       "    .dataframe tbody tr th:only-of-type {\n",
       "        vertical-align: middle;\n",
       "    }\n",
       "\n",
       "    .dataframe tbody tr th {\n",
       "        vertical-align: top;\n",
       "    }\n",
       "\n",
       "    .dataframe thead th {\n",
       "        text-align: right;\n",
       "    }\n",
       "</style>\n",
       "<table border=\"1\" class=\"dataframe\">\n",
       "  <thead>\n",
       "    <tr style=\"text-align: right;\">\n",
       "      <th></th>\n",
       "      <th>has_missing_residues</th>\n",
       "      <th>Sequence Length</th>\n",
       "      <th>resolution</th>\n",
       "      <th>b_factor_gt50</th>\n",
       "      <th>b_factor_max</th>\n",
       "      <th>Electrically Charged</th>\n",
       "      <th>Hydrophobic</th>\n",
       "      <th>Nonpolar Side Chains</th>\n",
       "      <th>Special</th>\n",
       "    </tr>\n",
       "    <tr>\n",
       "      <th>Protein</th>\n",
       "      <th></th>\n",
       "      <th></th>\n",
       "      <th></th>\n",
       "      <th></th>\n",
       "      <th></th>\n",
       "      <th></th>\n",
       "      <th></th>\n",
       "      <th></th>\n",
       "      <th></th>\n",
       "    </tr>\n",
       "  </thead>\n",
       "  <tbody>\n",
       "    <tr>\n",
       "      <td>2y39</td>\n",
       "      <td>True</td>\n",
       "      <td>110.0</td>\n",
       "      <td>1.41</td>\n",
       "      <td>0</td>\n",
       "      <td>46.46</td>\n",
       "      <td>0.38</td>\n",
       "      <td>0.42</td>\n",
       "      <td>0.11</td>\n",
       "      <td>0.09</td>\n",
       "    </tr>\n",
       "    <tr>\n",
       "      <td>2o73</td>\n",
       "      <td>True</td>\n",
       "      <td>992.0</td>\n",
       "      <td>1.80</td>\n",
       "      <td>4</td>\n",
       "      <td>65.24</td>\n",
       "      <td>0.30</td>\n",
       "      <td>0.41</td>\n",
       "      <td>0.18</td>\n",
       "      <td>0.08</td>\n",
       "    </tr>\n",
       "    <tr>\n",
       "      <td>3d5m</td>\n",
       "      <td>True</td>\n",
       "      <td>1116.0</td>\n",
       "      <td>2.20</td>\n",
       "      <td>3225</td>\n",
       "      <td>107.96</td>\n",
       "      <td>0.23</td>\n",
       "      <td>0.41</td>\n",
       "      <td>0.22</td>\n",
       "      <td>0.11</td>\n",
       "    </tr>\n",
       "    <tr>\n",
       "      <td>1gey</td>\n",
       "      <td>True</td>\n",
       "      <td>335.0</td>\n",
       "      <td>2.30</td>\n",
       "      <td>190</td>\n",
       "      <td>87.44</td>\n",
       "      <td>0.21</td>\n",
       "      <td>0.45</td>\n",
       "      <td>0.20</td>\n",
       "      <td>0.11</td>\n",
       "    </tr>\n",
       "    <tr>\n",
       "      <td>4y79</td>\n",
       "      <td>True</td>\n",
       "      <td>287.0</td>\n",
       "      <td>2.10</td>\n",
       "      <td>282</td>\n",
       "      <td>98.34</td>\n",
       "      <td>0.28</td>\n",
       "      <td>0.34</td>\n",
       "      <td>0.21</td>\n",
       "      <td>0.13</td>\n",
       "    </tr>\n",
       "  </tbody>\n",
       "</table>\n",
       "</div>"
      ],
      "text/plain": [
       "         has_missing_residues  Sequence Length  resolution  b_factor_gt50  \\\n",
       "Protein                                                                     \n",
       "2y39                     True            110.0        1.41              0   \n",
       "2o73                     True            992.0        1.80              4   \n",
       "3d5m                     True           1116.0        2.20           3225   \n",
       "1gey                     True            335.0        2.30            190   \n",
       "4y79                     True            287.0        2.10            282   \n",
       "\n",
       "         b_factor_max  Electrically Charged  Hydrophobic  \\\n",
       "Protein                                                    \n",
       "2y39            46.46                  0.38         0.42   \n",
       "2o73            65.24                  0.30         0.41   \n",
       "3d5m           107.96                  0.23         0.41   \n",
       "1gey            87.44                  0.21         0.45   \n",
       "4y79            98.34                  0.28         0.34   \n",
       "\n",
       "         Nonpolar Side Chains  Special  \n",
       "Protein                                 \n",
       "2y39                     0.11     0.09  \n",
       "2o73                     0.18     0.08  \n",
       "3d5m                     0.22     0.11  \n",
       "1gey                     0.20     0.11  \n",
       "4y79                     0.21     0.13  "
      ]
     },
     "execution_count": 2,
     "metadata": {},
     "output_type": "execute_result"
    }
   ],
   "source": [
    "data = pd.read_csv('C:/Users/Henry Lee/Desktop/Direct/project/PDB_data/newsummary_1000.csv', index_col = 'Protein')\n",
    "df1 = pd.DataFrame.dropna(data)\n",
    "# Rearrange our dataset \n",
    "df1 = df1[['has_missing_residues', 'Sequence Length', 'resolution', 'b_factor_gt50', 'b_factor_max',\n",
    "           'Electrically Charged', 'Hydrophobic', 'Nonpolar Side Chains', 'Special']]\n",
    "df1.head()"
   ]
  },
  {
   "cell_type": "code",
   "execution_count": 3,
   "metadata": {},
   "outputs": [
    {
     "data": {
      "text/plain": [
       "['RandomForest_model.pkl']"
      ]
     },
     "execution_count": 3,
     "metadata": {},
     "output_type": "execute_result"
    }
   ],
   "source": [
    "# dataset\n",
    "x, y = df1.iloc[:, 1:].values, df1.iloc[:, 0] # x = features, y = predict goal(has_missing_residues)\n",
    "# Random Forest Model\n",
    "RF_model = RandomForestClassifier(n_estimators=500) # set 500 decision trees\n",
    "RF_model.fit(x, y) # fitting our training data\n",
    "# output model\n",
    "joblib.dump(RF_model, 'RandomForest_model.pkl')"
   ]
  },
  {
   "cell_type": "code",
   "execution_count": 4,
   "metadata": {},
   "outputs": [
    {
     "name": "stdout",
     "output_type": "stream",
     "text": [
      " 1) b_factor_gt50                  0.183283\n",
      " 2) Sequence Length                0.155884\n",
      " 3) b_factor_max                   0.143815\n",
      " 4) Electrically Charged           0.123692\n",
      " 5) resolution                     0.116614\n",
      " 6) Hydrophobic                    0.099938\n",
      " 7) Nonpolar Side Chains           0.090007\n",
      " 8) Special                        0.086767\n",
      "Accuracy of the prediction in 5-fold cross-validation = 70.87%\n"
     ]
    }
   ],
   "source": [
    "# List importance of each feature in the model\n",
    "# Print accuracy of predicted test data\n",
    "#RF_model = joblib.load('RandomForest_model.pkl') #load model\n",
    "feature_name = df1.columns[1:] # name of features\n",
    "importances = RF_model.feature_importances_ # get importances\n",
    "indices = np.argsort(importances)[::-1] # index of sort of importance\n",
    "for i in range(x.shape[1]):\n",
    "    print(\"%2d) %-*s %f\" % (i + 1, 30, feature_name[indices[i]], importances[indices[i]]))\n",
    "\n",
    "# 5-fold cross-validation\n",
    "from sklearn.model_selection import cross_val_score\n",
    "scores = cross_val_score(RF_model, x, y, cv = 5)\n",
    "print('Accuracy of the prediction in 5-fold cross-validation = {:.2%}'.format(scores.mean()))"
   ]
  },
  {
   "cell_type": "code",
   "execution_count": 5,
   "metadata": {},
   "outputs": [
    {
     "name": "stdout",
     "output_type": "stream",
     "text": [
      "Most used features of nodes that input data went through [('Nonpolar Side Chains', 1092), ('b_factor_gt50', 997), ('Sequence Length', 921), ('b_factor_max', 881), ('resolution', 813), ('Electrically Charged', 800), ('Hydrophobic', 696), ('Special', 547)]\n"
     ]
    }
   ],
   "source": [
    "# The path of single input data goes through the random forest model\n",
    "feature_count_accum = []\n",
    "for j, tree in enumerate(RF_model.estimators_):\n",
    "    # matrix of nodes that input data go through(boolean)\n",
    "    dense_matrix = tree.decision_path(x[150].reshape(1, -1)).todense() \n",
    "    #transform to array\n",
    "    dense_sample = np.array(dense_matrix)[0] \n",
    "    # extract number of nodes that input data goes through\n",
    "    node_position = np.where(dense_sample == 1)[0] \n",
    "    feature_count = []\n",
    "\n",
    "    for i in range(len(node_position)):\n",
    "        number = node_position[i]\n",
    "        feature_count.append(feature_name[tree.tree_.feature[number]]) # feature name of specific node got from node_position\n",
    "    feature_count_accum.extend(feature_count)\n",
    "feature_order = Counter(feature_count_accum).most_common(8) # list \n",
    "print('Most used features of nodes that input data went through', feature_order)"
   ]
  },
  {
   "cell_type": "code",
   "execution_count": null,
   "metadata": {},
   "outputs": [],
   "source": []
  }
 ],
 "metadata": {
  "kernelspec": {
   "display_name": "Python 3",
   "language": "python",
   "name": "python3"
  },
  "language_info": {
   "codemirror_mode": {
    "name": "ipython",
    "version": 3
   },
   "file_extension": ".py",
   "mimetype": "text/x-python",
   "name": "python",
   "nbconvert_exporter": "python",
   "pygments_lexer": "ipython3",
   "version": "3.7.4"
  }
 },
 "nbformat": 4,
 "nbformat_minor": 2
}

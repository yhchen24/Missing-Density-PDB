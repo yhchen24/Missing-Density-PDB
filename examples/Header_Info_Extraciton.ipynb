{
 "cells": [
  {
   "cell_type": "markdown",
   "metadata": {},
   "source": [
    "[See reference here and search text 'header'](http://biopython.org/DIST/docs/tutorial/Tutorial.html)"
   ]
  },
  {
   "cell_type": "code",
   "execution_count": 1,
   "metadata": {},
   "outputs": [],
   "source": [
    "import Bio\n",
    "import os\n",
    "import csv\n",
    "import numpy as np\n",
    "import pandas as pd"
   ]
  },
  {
   "cell_type": "code",
   "execution_count": 27,
   "metadata": {
    "scrolled": true
   },
   "outputs": [
    {
     "name": "stderr",
     "output_type": "stream",
     "text": [
      "C:\\Users\\Jenny Irvin\\Anaconda3\\lib\\site-packages\\Bio\\PDB\\StructureBuilder.py:92: PDBConstructionWarning: WARNING: Chain A is discontinuous at line 2654.\n",
      "  PDBConstructionWarning,\n",
      "C:\\Users\\Jenny Irvin\\Anaconda3\\lib\\site-packages\\Bio\\PDB\\StructureBuilder.py:92: PDBConstructionWarning: WARNING: Chain C is discontinuous at line 2978.\n",
      "  PDBConstructionWarning,\n",
      "C:\\Users\\Jenny Irvin\\Anaconda3\\lib\\site-packages\\Bio\\PDB\\StructureBuilder.py:92: PDBConstructionWarning: WARNING: Chain B is discontinuous at line 2990.\n",
      "  PDBConstructionWarning,\n",
      "C:\\Users\\Jenny Irvin\\Anaconda3\\lib\\site-packages\\Bio\\PDB\\StructureBuilder.py:92: PDBConstructionWarning: WARNING: Chain D is discontinuous at line 3221.\n",
      "  PDBConstructionWarning,\n",
      "C:\\Users\\Jenny Irvin\\Anaconda3\\lib\\site-packages\\Bio\\PDB\\StructureBuilder.py:92: PDBConstructionWarning: WARNING: Chain A is discontinuous at line 2654.\n",
      "  PDBConstructionWarning,\n",
      "C:\\Users\\Jenny Irvin\\Anaconda3\\lib\\site-packages\\Bio\\PDB\\StructureBuilder.py:92: PDBConstructionWarning: WARNING: Chain C is discontinuous at line 2978.\n",
      "  PDBConstructionWarning,\n",
      "C:\\Users\\Jenny Irvin\\Anaconda3\\lib\\site-packages\\Bio\\PDB\\StructureBuilder.py:92: PDBConstructionWarning: WARNING: Chain B is discontinuous at line 2990.\n",
      "  PDBConstructionWarning,\n",
      "C:\\Users\\Jenny Irvin\\Anaconda3\\lib\\site-packages\\Bio\\PDB\\StructureBuilder.py:92: PDBConstructionWarning: WARNING: Chain D is discontinuous at line 3221.\n",
      "  PDBConstructionWarning,\n",
      "C:\\Users\\Jenny Irvin\\Anaconda3\\lib\\site-packages\\Bio\\PDB\\StructureBuilder.py:92: PDBConstructionWarning: WARNING: Chain A is discontinuous at line 7430.\n",
      "  PDBConstructionWarning,\n",
      "C:\\Users\\Jenny Irvin\\Anaconda3\\lib\\site-packages\\Bio\\PDB\\StructureBuilder.py:92: PDBConstructionWarning: WARNING: Chain B is discontinuous at line 7450.\n",
      "  PDBConstructionWarning,\n",
      "C:\\Users\\Jenny Irvin\\Anaconda3\\lib\\site-packages\\Bio\\PDB\\StructureBuilder.py:92: PDBConstructionWarning: WARNING: Chain C is discontinuous at line 7469.\n",
      "  PDBConstructionWarning,\n",
      "C:\\Users\\Jenny Irvin\\Anaconda3\\lib\\site-packages\\Bio\\PDB\\StructureBuilder.py:92: PDBConstructionWarning: WARNING: Chain D is discontinuous at line 7488.\n",
      "  PDBConstructionWarning,\n",
      "C:\\Users\\Jenny Irvin\\Anaconda3\\lib\\site-packages\\Bio\\PDB\\StructureBuilder.py:92: PDBConstructionWarning: WARNING: Chain A is discontinuous at line 7517.\n",
      "  PDBConstructionWarning,\n",
      "C:\\Users\\Jenny Irvin\\Anaconda3\\lib\\site-packages\\Bio\\PDB\\StructureBuilder.py:92: PDBConstructionWarning: WARNING: Chain B is discontinuous at line 7635.\n",
      "  PDBConstructionWarning,\n",
      "C:\\Users\\Jenny Irvin\\Anaconda3\\lib\\site-packages\\Bio\\PDB\\StructureBuilder.py:92: PDBConstructionWarning: WARNING: Chain C is discontinuous at line 7717.\n",
      "  PDBConstructionWarning,\n",
      "C:\\Users\\Jenny Irvin\\Anaconda3\\lib\\site-packages\\Bio\\PDB\\StructureBuilder.py:92: PDBConstructionWarning: WARNING: Chain D is discontinuous at line 7795.\n",
      "  PDBConstructionWarning,\n",
      "C:\\Users\\Jenny Irvin\\Anaconda3\\lib\\site-packages\\Bio\\PDB\\StructureBuilder.py:92: PDBConstructionWarning: WARNING: Chain A is discontinuous at line 7430.\n",
      "  PDBConstructionWarning,\n",
      "C:\\Users\\Jenny Irvin\\Anaconda3\\lib\\site-packages\\Bio\\PDB\\StructureBuilder.py:92: PDBConstructionWarning: WARNING: Chain B is discontinuous at line 7450.\n",
      "  PDBConstructionWarning,\n",
      "C:\\Users\\Jenny Irvin\\Anaconda3\\lib\\site-packages\\Bio\\PDB\\StructureBuilder.py:92: PDBConstructionWarning: WARNING: Chain C is discontinuous at line 7469.\n",
      "  PDBConstructionWarning,\n",
      "C:\\Users\\Jenny Irvin\\Anaconda3\\lib\\site-packages\\Bio\\PDB\\StructureBuilder.py:92: PDBConstructionWarning: WARNING: Chain D is discontinuous at line 7488.\n",
      "  PDBConstructionWarning,\n",
      "C:\\Users\\Jenny Irvin\\Anaconda3\\lib\\site-packages\\Bio\\PDB\\StructureBuilder.py:92: PDBConstructionWarning: WARNING: Chain A is discontinuous at line 7517.\n",
      "  PDBConstructionWarning,\n",
      "C:\\Users\\Jenny Irvin\\Anaconda3\\lib\\site-packages\\Bio\\PDB\\StructureBuilder.py:92: PDBConstructionWarning: WARNING: Chain B is discontinuous at line 7635.\n",
      "  PDBConstructionWarning,\n",
      "C:\\Users\\Jenny Irvin\\Anaconda3\\lib\\site-packages\\Bio\\PDB\\StructureBuilder.py:92: PDBConstructionWarning: WARNING: Chain C is discontinuous at line 7717.\n",
      "  PDBConstructionWarning,\n",
      "C:\\Users\\Jenny Irvin\\Anaconda3\\lib\\site-packages\\Bio\\PDB\\StructureBuilder.py:92: PDBConstructionWarning: WARNING: Chain D is discontinuous at line 7795.\n",
      "  PDBConstructionWarning,\n",
      "C:\\Users\\Jenny Irvin\\Anaconda3\\lib\\site-packages\\Bio\\PDB\\StructureBuilder.py:92: PDBConstructionWarning: WARNING: Chain H is discontinuous at line 2851.\n",
      "  PDBConstructionWarning,\n",
      "C:\\Users\\Jenny Irvin\\Anaconda3\\lib\\site-packages\\Bio\\PDB\\StructureBuilder.py:92: PDBConstructionWarning: WARNING: Chain L is discontinuous at line 2885.\n",
      "  PDBConstructionWarning,\n",
      "C:\\Users\\Jenny Irvin\\Anaconda3\\lib\\site-packages\\Bio\\PDB\\StructureBuilder.py:92: PDBConstructionWarning: WARNING: Chain H is discontinuous at line 2918.\n",
      "  PDBConstructionWarning,\n",
      "C:\\Users\\Jenny Irvin\\Anaconda3\\lib\\site-packages\\Bio\\PDB\\StructureBuilder.py:92: PDBConstructionWarning: WARNING: Chain I is discontinuous at line 3129.\n",
      "  PDBConstructionWarning,\n",
      "C:\\Users\\Jenny Irvin\\Anaconda3\\lib\\site-packages\\Bio\\PDB\\StructureBuilder.py:92: PDBConstructionWarning: WARNING: Chain H is discontinuous at line 2851.\n",
      "  PDBConstructionWarning,\n",
      "C:\\Users\\Jenny Irvin\\Anaconda3\\lib\\site-packages\\Bio\\PDB\\StructureBuilder.py:92: PDBConstructionWarning: WARNING: Chain L is discontinuous at line 2885.\n",
      "  PDBConstructionWarning,\n",
      "C:\\Users\\Jenny Irvin\\Anaconda3\\lib\\site-packages\\Bio\\PDB\\StructureBuilder.py:92: PDBConstructionWarning: WARNING: Chain H is discontinuous at line 2918.\n",
      "  PDBConstructionWarning,\n",
      "C:\\Users\\Jenny Irvin\\Anaconda3\\lib\\site-packages\\Bio\\PDB\\StructureBuilder.py:92: PDBConstructionWarning: WARNING: Chain I is discontinuous at line 3129.\n",
      "  PDBConstructionWarning,\n",
      "C:\\Users\\Jenny Irvin\\Anaconda3\\lib\\site-packages\\Bio\\PDB\\StructureBuilder.py:92: PDBConstructionWarning: WARNING: Chain H is discontinuous at line 2895.\n",
      "  PDBConstructionWarning,\n",
      "C:\\Users\\Jenny Irvin\\Anaconda3\\lib\\site-packages\\Bio\\PDB\\StructureBuilder.py:92: PDBConstructionWarning: WARNING: Chain L is discontinuous at line 2935.\n",
      "  PDBConstructionWarning,\n",
      "C:\\Users\\Jenny Irvin\\Anaconda3\\lib\\site-packages\\Bio\\PDB\\StructureBuilder.py:92: PDBConstructionWarning: WARNING: Chain H is discontinuous at line 2950.\n",
      "  PDBConstructionWarning,\n",
      "C:\\Users\\Jenny Irvin\\Anaconda3\\lib\\site-packages\\Bio\\PDB\\StructureBuilder.py:92: PDBConstructionWarning: WARNING: Chain I is discontinuous at line 3098.\n",
      "  PDBConstructionWarning,\n",
      "C:\\Users\\Jenny Irvin\\Anaconda3\\lib\\site-packages\\Bio\\PDB\\StructureBuilder.py:92: PDBConstructionWarning: WARNING: Chain H is discontinuous at line 2895.\n",
      "  PDBConstructionWarning,\n",
      "C:\\Users\\Jenny Irvin\\Anaconda3\\lib\\site-packages\\Bio\\PDB\\StructureBuilder.py:92: PDBConstructionWarning: WARNING: Chain L is discontinuous at line 2935.\n",
      "  PDBConstructionWarning,\n",
      "C:\\Users\\Jenny Irvin\\Anaconda3\\lib\\site-packages\\Bio\\PDB\\StructureBuilder.py:92: PDBConstructionWarning: WARNING: Chain H is discontinuous at line 2950.\n",
      "  PDBConstructionWarning,\n",
      "C:\\Users\\Jenny Irvin\\Anaconda3\\lib\\site-packages\\Bio\\PDB\\StructureBuilder.py:92: PDBConstructionWarning: WARNING: Chain I is discontinuous at line 3098.\n",
      "  PDBConstructionWarning,\n",
      "C:\\Users\\Jenny Irvin\\Anaconda3\\lib\\site-packages\\Bio\\PDB\\StructureBuilder.py:92: PDBConstructionWarning: WARNING: Chain A is discontinuous at line 4465.\n",
      "  PDBConstructionWarning,\n",
      "C:\\Users\\Jenny Irvin\\Anaconda3\\lib\\site-packages\\Bio\\PDB\\StructureBuilder.py:92: PDBConstructionWarning: WARNING: Chain B is discontinuous at line 4488.\n",
      "  PDBConstructionWarning,\n",
      "C:\\Users\\Jenny Irvin\\Anaconda3\\lib\\site-packages\\Bio\\PDB\\StructureBuilder.py:92: PDBConstructionWarning: WARNING: Chain A is discontinuous at line 4511.\n",
      "  PDBConstructionWarning,\n",
      "C:\\Users\\Jenny Irvin\\Anaconda3\\lib\\site-packages\\Bio\\PDB\\StructureBuilder.py:92: PDBConstructionWarning: WARNING: Chain B is discontinuous at line 4521.\n",
      "  PDBConstructionWarning,\n",
      "C:\\Users\\Jenny Irvin\\Anaconda3\\lib\\site-packages\\Bio\\PDB\\StructureBuilder.py:92: PDBConstructionWarning: WARNING: Chain A is discontinuous at line 4465.\n",
      "  PDBConstructionWarning,\n",
      "C:\\Users\\Jenny Irvin\\Anaconda3\\lib\\site-packages\\Bio\\PDB\\StructureBuilder.py:92: PDBConstructionWarning: WARNING: Chain B is discontinuous at line 4488.\n",
      "  PDBConstructionWarning,\n",
      "C:\\Users\\Jenny Irvin\\Anaconda3\\lib\\site-packages\\Bio\\PDB\\StructureBuilder.py:92: PDBConstructionWarning: WARNING: Chain A is discontinuous at line 4511.\n",
      "  PDBConstructionWarning,\n",
      "C:\\Users\\Jenny Irvin\\Anaconda3\\lib\\site-packages\\Bio\\PDB\\StructureBuilder.py:92: PDBConstructionWarning: WARNING: Chain B is discontinuous at line 4521.\n",
      "  PDBConstructionWarning,\n"
     ]
    },
    {
     "name": "stderr",
     "output_type": "stream",
     "text": [
      "C:\\Users\\Jenny Irvin\\Anaconda3\\lib\\site-packages\\Bio\\PDB\\StructureBuilder.py:92: PDBConstructionWarning: WARNING: Chain A is discontinuous at line 2206.\n",
      "  PDBConstructionWarning,\n",
      "C:\\Users\\Jenny Irvin\\Anaconda3\\lib\\site-packages\\Bio\\PDB\\StructureBuilder.py:92: PDBConstructionWarning: WARNING: Chain B is discontinuous at line 2249.\n",
      "  PDBConstructionWarning,\n",
      "C:\\Users\\Jenny Irvin\\Anaconda3\\lib\\site-packages\\Bio\\PDB\\StructureBuilder.py:92: PDBConstructionWarning: WARNING: Chain A is discontinuous at line 2292.\n",
      "  PDBConstructionWarning,\n",
      "C:\\Users\\Jenny Irvin\\Anaconda3\\lib\\site-packages\\Bio\\PDB\\StructureBuilder.py:92: PDBConstructionWarning: WARNING: Chain B is discontinuous at line 2407.\n",
      "  PDBConstructionWarning,\n",
      "C:\\Users\\Jenny Irvin\\Anaconda3\\lib\\site-packages\\Bio\\PDB\\StructureBuilder.py:92: PDBConstructionWarning: WARNING: Chain A is discontinuous at line 2206.\n",
      "  PDBConstructionWarning,\n",
      "C:\\Users\\Jenny Irvin\\Anaconda3\\lib\\site-packages\\Bio\\PDB\\StructureBuilder.py:92: PDBConstructionWarning: WARNING: Chain B is discontinuous at line 2249.\n",
      "  PDBConstructionWarning,\n",
      "C:\\Users\\Jenny Irvin\\Anaconda3\\lib\\site-packages\\Bio\\PDB\\StructureBuilder.py:92: PDBConstructionWarning: WARNING: Chain A is discontinuous at line 2292.\n",
      "  PDBConstructionWarning,\n",
      "C:\\Users\\Jenny Irvin\\Anaconda3\\lib\\site-packages\\Bio\\PDB\\StructureBuilder.py:92: PDBConstructionWarning: WARNING: Chain B is discontinuous at line 2407.\n",
      "  PDBConstructionWarning,\n",
      "C:\\Users\\Jenny Irvin\\Anaconda3\\lib\\site-packages\\Bio\\PDB\\StructureBuilder.py:92: PDBConstructionWarning: WARNING: Chain A is discontinuous at line 5116.\n",
      "  PDBConstructionWarning,\n",
      "C:\\Users\\Jenny Irvin\\Anaconda3\\lib\\site-packages\\Bio\\PDB\\StructureBuilder.py:92: PDBConstructionWarning: WARNING: Chain B is discontinuous at line 5120.\n",
      "  PDBConstructionWarning,\n",
      "C:\\Users\\Jenny Irvin\\Anaconda3\\lib\\site-packages\\Bio\\PDB\\StructureBuilder.py:92: PDBConstructionWarning: WARNING: Chain C is discontinuous at line 5154.\n",
      "  PDBConstructionWarning,\n",
      "C:\\Users\\Jenny Irvin\\Anaconda3\\lib\\site-packages\\Bio\\PDB\\StructureBuilder.py:92: PDBConstructionWarning: WARNING: Chain D is discontinuous at line 5188.\n",
      "  PDBConstructionWarning,\n",
      "C:\\Users\\Jenny Irvin\\Anaconda3\\lib\\site-packages\\Bio\\PDB\\StructureBuilder.py:92: PDBConstructionWarning: WARNING: Chain A is discontinuous at line 5192.\n",
      "  PDBConstructionWarning,\n",
      "C:\\Users\\Jenny Irvin\\Anaconda3\\lib\\site-packages\\Bio\\PDB\\StructureBuilder.py:92: PDBConstructionWarning: WARNING: Chain B is discontinuous at line 5234.\n",
      "  PDBConstructionWarning,\n",
      "C:\\Users\\Jenny Irvin\\Anaconda3\\lib\\site-packages\\Bio\\PDB\\StructureBuilder.py:92: PDBConstructionWarning: WARNING: Chain C is discontinuous at line 5267.\n",
      "  PDBConstructionWarning,\n",
      "C:\\Users\\Jenny Irvin\\Anaconda3\\lib\\site-packages\\Bio\\PDB\\StructureBuilder.py:92: PDBConstructionWarning: WARNING: Chain D is discontinuous at line 5302.\n",
      "  PDBConstructionWarning,\n",
      "C:\\Users\\Jenny Irvin\\Anaconda3\\lib\\site-packages\\Bio\\PDB\\StructureBuilder.py:92: PDBConstructionWarning: WARNING: Chain A is discontinuous at line 5116.\n",
      "  PDBConstructionWarning,\n",
      "C:\\Users\\Jenny Irvin\\Anaconda3\\lib\\site-packages\\Bio\\PDB\\StructureBuilder.py:92: PDBConstructionWarning: WARNING: Chain B is discontinuous at line 5120.\n",
      "  PDBConstructionWarning,\n",
      "C:\\Users\\Jenny Irvin\\Anaconda3\\lib\\site-packages\\Bio\\PDB\\StructureBuilder.py:92: PDBConstructionWarning: WARNING: Chain C is discontinuous at line 5154.\n",
      "  PDBConstructionWarning,\n",
      "C:\\Users\\Jenny Irvin\\Anaconda3\\lib\\site-packages\\Bio\\PDB\\StructureBuilder.py:92: PDBConstructionWarning: WARNING: Chain D is discontinuous at line 5188.\n",
      "  PDBConstructionWarning,\n",
      "C:\\Users\\Jenny Irvin\\Anaconda3\\lib\\site-packages\\Bio\\PDB\\StructureBuilder.py:92: PDBConstructionWarning: WARNING: Chain A is discontinuous at line 5192.\n",
      "  PDBConstructionWarning,\n",
      "C:\\Users\\Jenny Irvin\\Anaconda3\\lib\\site-packages\\Bio\\PDB\\StructureBuilder.py:92: PDBConstructionWarning: WARNING: Chain B is discontinuous at line 5234.\n",
      "  PDBConstructionWarning,\n",
      "C:\\Users\\Jenny Irvin\\Anaconda3\\lib\\site-packages\\Bio\\PDB\\StructureBuilder.py:92: PDBConstructionWarning: WARNING: Chain C is discontinuous at line 5267.\n",
      "  PDBConstructionWarning,\n",
      "C:\\Users\\Jenny Irvin\\Anaconda3\\lib\\site-packages\\Bio\\PDB\\StructureBuilder.py:92: PDBConstructionWarning: WARNING: Chain D is discontinuous at line 5302.\n",
      "  PDBConstructionWarning,\n",
      "C:\\Users\\Jenny Irvin\\Anaconda3\\lib\\site-packages\\Bio\\PDB\\StructureBuilder.py:92: PDBConstructionWarning: WARNING: Chain A is discontinuous at line 4416.\n",
      "  PDBConstructionWarning,\n",
      "C:\\Users\\Jenny Irvin\\Anaconda3\\lib\\site-packages\\Bio\\PDB\\StructureBuilder.py:92: PDBConstructionWarning: WARNING: Chain B is discontinuous at line 4441.\n",
      "  PDBConstructionWarning,\n",
      "C:\\Users\\Jenny Irvin\\Anaconda3\\lib\\site-packages\\Bio\\PDB\\StructureBuilder.py:92: PDBConstructionWarning: WARNING: Chain A is discontinuous at line 4443.\n",
      "  PDBConstructionWarning,\n",
      "C:\\Users\\Jenny Irvin\\Anaconda3\\lib\\site-packages\\Bio\\PDB\\StructureBuilder.py:92: PDBConstructionWarning: WARNING: Chain B is discontinuous at line 4596.\n",
      "  PDBConstructionWarning,\n",
      "C:\\Users\\Jenny Irvin\\Anaconda3\\lib\\site-packages\\Bio\\PDB\\StructureBuilder.py:92: PDBConstructionWarning: WARNING: Chain A is discontinuous at line 4416.\n",
      "  PDBConstructionWarning,\n",
      "C:\\Users\\Jenny Irvin\\Anaconda3\\lib\\site-packages\\Bio\\PDB\\StructureBuilder.py:92: PDBConstructionWarning: WARNING: Chain B is discontinuous at line 4441.\n",
      "  PDBConstructionWarning,\n",
      "C:\\Users\\Jenny Irvin\\Anaconda3\\lib\\site-packages\\Bio\\PDB\\StructureBuilder.py:92: PDBConstructionWarning: WARNING: Chain A is discontinuous at line 4443.\n",
      "  PDBConstructionWarning,\n",
      "C:\\Users\\Jenny Irvin\\Anaconda3\\lib\\site-packages\\Bio\\PDB\\StructureBuilder.py:92: PDBConstructionWarning: WARNING: Chain B is discontinuous at line 4596.\n",
      "  PDBConstructionWarning,\n",
      "C:\\Users\\Jenny Irvin\\Anaconda3\\lib\\site-packages\\Bio\\PDB\\StructureBuilder.py:92: PDBConstructionWarning: WARNING: Chain A is discontinuous at line 2248.\n",
      "  PDBConstructionWarning,\n",
      "C:\\Users\\Jenny Irvin\\Anaconda3\\lib\\site-packages\\Bio\\PDB\\StructureBuilder.py:92: PDBConstructionWarning: WARNING: Chain B is discontinuous at line 2249.\n",
      "  PDBConstructionWarning,\n",
      "C:\\Users\\Jenny Irvin\\Anaconda3\\lib\\site-packages\\Bio\\PDB\\StructureBuilder.py:92: PDBConstructionWarning: WARNING: Chain A is discontinuous at line 2250.\n",
      "  PDBConstructionWarning,\n",
      "C:\\Users\\Jenny Irvin\\Anaconda3\\lib\\site-packages\\Bio\\PDB\\StructureBuilder.py:92: PDBConstructionWarning: WARNING: Chain B is discontinuous at line 2278.\n",
      "  PDBConstructionWarning,\n",
      "C:\\Users\\Jenny Irvin\\Anaconda3\\lib\\site-packages\\Bio\\PDB\\StructureBuilder.py:92: PDBConstructionWarning: WARNING: Chain A is discontinuous at line 2248.\n",
      "  PDBConstructionWarning,\n",
      "C:\\Users\\Jenny Irvin\\Anaconda3\\lib\\site-packages\\Bio\\PDB\\StructureBuilder.py:92: PDBConstructionWarning: WARNING: Chain B is discontinuous at line 2249.\n",
      "  PDBConstructionWarning,\n",
      "C:\\Users\\Jenny Irvin\\Anaconda3\\lib\\site-packages\\Bio\\PDB\\StructureBuilder.py:92: PDBConstructionWarning: WARNING: Chain A is discontinuous at line 2250.\n",
      "  PDBConstructionWarning,\n",
      "C:\\Users\\Jenny Irvin\\Anaconda3\\lib\\site-packages\\Bio\\PDB\\StructureBuilder.py:92: PDBConstructionWarning: WARNING: Chain B is discontinuous at line 2278.\n",
      "  PDBConstructionWarning,\n"
     ]
    }
   ],
   "source": [
    "from Bio.PDB import *\n",
    "from glob import glob\n",
    "\n",
    "#set parser in BioPython\n",
    "parser = PDBParser(PERMISSIVE=True)\n",
    "\n",
    "# create pdb_files as all .pdb file in the folder\n",
    "pdb_files = glob('small_sample/*.pdb')\n",
    "\n",
    "# create a null dataframe\n",
    "data_out = pd.DataFrame()\n",
    "missing_out = {}\n",
    "data = []\n",
    "header = []\n",
    "\n",
    "for filename in pdb_files:\n",
    "    base = os.path.basename(filename) # grab filename contained extension from path\n",
    "    structure_id = os.path.splitext(base)[0] # split filename and Extension, take the former\n",
    "    data.append(parser.get_structure(structure_id, filename)) # get structure\n",
    "    header.append(parser.get_structure(structure_id, filename)) # get header\n"
   ]
  },
  {
   "cell_type": "code",
   "execution_count": 17,
   "metadata": {},
   "outputs": [
    {
     "data": {
      "text/plain": [
       "'phosphoribosyltransferase, transferase, purine salvage enzyme, glycosyltransferase'"
      ]
     },
     "execution_count": 17,
     "metadata": {},
     "output_type": "execute_result"
    }
   ],
   "source": [
    "data[7].header['keywords']"
   ]
  },
  {
   "cell_type": "code",
   "execution_count": 18,
   "metadata": {},
   "outputs": [
    {
     "data": {
      "text/plain": [
       "{'1': {'misc': '',\n",
       "  'molecule': 'xanthine-guanine phosphoribosyltransferase',\n",
       "  'chain': 'a, b, c, d',\n",
       "  'synonym': 'xprt',\n",
       "  'ec_number': '2.4.2.22',\n",
       "  'ec': '2.4.2.22',\n",
       "  'engineered': 'yes'}}"
      ]
     },
     "execution_count": 18,
     "metadata": {},
     "output_type": "execute_result"
    }
   ],
   "source": [
    "data[7].header['compound']"
   ]
  },
  {
   "cell_type": "code",
   "execution_count": 20,
   "metadata": {},
   "outputs": [
    {
     "data": {
      "text/plain": [
       "{'1': {'misc': '',\n",
       "  'molecule': 'trypsin',\n",
       "  'chain': 'a, b, c, d',\n",
       "  'ec_number': '3.4.21.4',\n",
       "  'ec': '3.4.21.4',\n",
       "  'other_details': 'benzamidine inhibitor in the active site. the aminoacid numbering scheme used is adopted from chymotrypsinogen. '}}"
      ]
     },
     "execution_count": 20,
     "metadata": {},
     "output_type": "execute_result"
    }
   ],
   "source": [
    "data[1].header['compound']"
   ]
  },
  {
   "cell_type": "code",
   "execution_count": 22,
   "metadata": {},
   "outputs": [
    {
     "data": {
      "text/plain": [
       "[{'model': None,\n",
       "  'res_name': 'MET',\n",
       "  'chain': 'A',\n",
       "  'ssseq': 1,\n",
       "  'insertion': None},\n",
       " {'model': None,\n",
       "  'res_name': 'SER',\n",
       "  'chain': 'A',\n",
       "  'ssseq': 2,\n",
       "  'insertion': None},\n",
       " {'model': None,\n",
       "  'res_name': 'ASP',\n",
       "  'chain': 'A',\n",
       "  'ssseq': 64,\n",
       "  'insertion': None},\n",
       " {'model': None,\n",
       "  'res_name': 'HIS',\n",
       "  'chain': 'A',\n",
       "  'ssseq': 65,\n",
       "  'insertion': None},\n",
       " {'model': None,\n",
       "  'res_name': 'ASP',\n",
       "  'chain': 'A',\n",
       "  'ssseq': 66,\n",
       "  'insertion': None},\n",
       " {'model': None,\n",
       "  'res_name': 'GLY',\n",
       "  'chain': 'A',\n",
       "  'ssseq': 151,\n",
       "  'insertion': None},\n",
       " {'model': None,\n",
       "  'res_name': 'ARG',\n",
       "  'chain': 'A',\n",
       "  'ssseq': 152,\n",
       "  'insertion': None},\n",
       " {'model': None,\n",
       "  'res_name': 'MET',\n",
       "  'chain': 'B',\n",
       "  'ssseq': 1,\n",
       "  'insertion': None},\n",
       " {'model': None,\n",
       "  'res_name': 'SER',\n",
       "  'chain': 'B',\n",
       "  'ssseq': 2,\n",
       "  'insertion': None},\n",
       " {'model': None,\n",
       "  'res_name': 'MET',\n",
       "  'chain': 'C',\n",
       "  'ssseq': 1,\n",
       "  'insertion': None},\n",
       " {'model': None,\n",
       "  'res_name': 'SER',\n",
       "  'chain': 'C',\n",
       "  'ssseq': 2,\n",
       "  'insertion': None},\n",
       " {'model': None,\n",
       "  'res_name': 'MET',\n",
       "  'chain': 'D',\n",
       "  'ssseq': 1,\n",
       "  'insertion': None},\n",
       " {'model': None,\n",
       "  'res_name': 'ASP',\n",
       "  'chain': 'D',\n",
       "  'ssseq': 64,\n",
       "  'insertion': None},\n",
       " {'model': None,\n",
       "  'res_name': 'HIS',\n",
       "  'chain': 'D',\n",
       "  'ssseq': 65,\n",
       "  'insertion': None},\n",
       " {'model': None,\n",
       "  'res_name': 'ASP',\n",
       "  'chain': 'D',\n",
       "  'ssseq': 66,\n",
       "  'insertion': None},\n",
       " {'model': None,\n",
       "  'res_name': 'ASN',\n",
       "  'chain': 'D',\n",
       "  'ssseq': 67,\n",
       "  'insertion': None},\n",
       " {'model': None,\n",
       "  'res_name': 'GLN',\n",
       "  'chain': 'D',\n",
       "  'ssseq': 68,\n",
       "  'insertion': None},\n",
       " {'model': None,\n",
       "  'res_name': 'ARG',\n",
       "  'chain': 'D',\n",
       "  'ssseq': 152,\n",
       "  'insertion': None}]"
      ]
     },
     "execution_count": 22,
     "metadata": {},
     "output_type": "execute_result"
    }
   ],
   "source": [
    "data[7].header['missing_residues']"
   ]
  },
  {
   "cell_type": "code",
   "execution_count": 33,
   "metadata": {},
   "outputs": [
    {
     "data": {
      "text/plain": [
       "{'name': '',\n",
       " 'head': '',\n",
       " 'idcode': '',\n",
       " 'deposition_date': '1909-01-08',\n",
       " 'release_date': '1909-01-08',\n",
       " 'structure_method': 'unknown',\n",
       " 'resolution': 0.0,\n",
       " 'structure_reference': [],\n",
       " 'journal_reference': '',\n",
       " 'author': '',\n",
       " 'compound': {'1': {'misc': ''}},\n",
       " 'source': {'1': {'misc': ''}},\n",
       " 'has_missing_residues': False,\n",
       " 'missing_residues': []}"
      ]
     },
     "execution_count": 33,
     "metadata": {},
     "output_type": "execute_result"
    }
   ],
   "source": [
    "from Bio.PDB import parse_pdb_header\n",
    "filename = '1AZ5_pdb.csv'\n",
    "with open(filename, \"r\") as handle:\n",
    "    header_dict = parse_pdb_header(handle)\n",
    "    \n",
    "header_dict"
   ]
  },
  {
   "cell_type": "code",
   "execution_count": 162,
   "metadata": {},
   "outputs": [],
   "source": []
  }
 ],
 "metadata": {
  "kernelspec": {
   "display_name": "Python 3",
   "language": "python",
   "name": "python3"
  },
  "language_info": {
   "codemirror_mode": {
    "name": "ipython",
    "version": 3
   },
   "file_extension": ".py",
   "mimetype": "text/x-python",
   "name": "python",
   "nbconvert_exporter": "python",
   "pygments_lexer": "ipython3",
   "version": "3.7.3"
  }
 },
 "nbformat": 4,
 "nbformat_minor": 2
}
